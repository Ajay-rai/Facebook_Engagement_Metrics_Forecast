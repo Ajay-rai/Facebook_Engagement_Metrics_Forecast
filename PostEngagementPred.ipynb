{
 "cells": [
  {
   "cell_type": "markdown",
   "id": "5841a4d9",
   "metadata": {
    "toc": true
   },
   "source": [
    "<h1>Table of Contents<span class=\"tocSkip\"></span></h1>\n",
    "<div class=\"toc\"><ul class=\"toc-item\"><li><span><a href=\"#Objective\" data-toc-modified-id=\"Objective-1\"><span class=\"toc-item-num\">1&nbsp;&nbsp;</span>Objective</a></span></li><li><span><a href=\"#Load-and-check-data\" data-toc-modified-id=\"Load-and-check-data-2\"><span class=\"toc-item-num\">2&nbsp;&nbsp;</span>Load and check data</a></span><ul class=\"toc-item\"><li><span><a href=\"#Check-for-duplicates\" data-toc-modified-id=\"Check-for-duplicates-2.1\"><span class=\"toc-item-num\">2.1&nbsp;&nbsp;</span>Check for duplicates</a></span></li><li><span><a href=\"#Outliers-detection\" data-toc-modified-id=\"Outliers-detection-2.2\"><span class=\"toc-item-num\">2.2&nbsp;&nbsp;</span>Outliers detection</a></span></li><li><span><a href=\"#Feature-Analysis\" data-toc-modified-id=\"Feature-Analysis-2.3\"><span class=\"toc-item-num\">2.3&nbsp;&nbsp;</span>Feature Analysis</a></span></li><li><span><a href=\"#Numerical-values\" data-toc-modified-id=\"Numerical-values-2.4\"><span class=\"toc-item-num\">2.4&nbsp;&nbsp;</span>Numerical values</a></span></li></ul></li><li><span><a href=\"#Categorial--values\" data-toc-modified-id=\"Categorial--values-3\"><span class=\"toc-item-num\">3&nbsp;&nbsp;</span>Categorial  values</a></span></li><li><span><a href=\"#Feature-engineering\" data-toc-modified-id=\"Feature-engineering-4\"><span class=\"toc-item-num\">4&nbsp;&nbsp;</span>Feature engineering</a></span><ul class=\"toc-item\"><li><span><a href=\"#Dropping-status-id-and-sub-reactions:-like,love,haha-etc\" data-toc-modified-id=\"Dropping-status-id-and-sub-reactions:-like,love,haha-etc-4.1\"><span class=\"toc-item-num\">4.1&nbsp;&nbsp;</span>Dropping status id and sub reactions: like,love,haha etc</a></span></li><li><span><a href=\"#Extracting-temporal-dimensions-from-status_published\" data-toc-modified-id=\"Extracting-temporal-dimensions-from-status_published-4.2\"><span class=\"toc-item-num\">4.2&nbsp;&nbsp;</span>Extracting temporal dimensions from status_published</a></span></li><li><span><a href=\"#Defining-target-variable\" data-toc-modified-id=\"Defining-target-variable-4.3\"><span class=\"toc-item-num\">4.3&nbsp;&nbsp;</span>Defining target variable</a></span></li><li><span><a href=\"#Data-visualization-using-temporal-dimension\" data-toc-modified-id=\"Data-visualization-using-temporal-dimension-4.4\"><span class=\"toc-item-num\">4.4&nbsp;&nbsp;</span>Data visualization using temporal dimension</a></span><ul class=\"toc-item\"><li><span><a href=\"#Frequency-plots\" data-toc-modified-id=\"Frequency-plots-4.4.1\"><span class=\"toc-item-num\">4.4.1&nbsp;&nbsp;</span>Frequency plots</a></span></li><li><span><a href=\"#Distribution-of-engagement-metric\" data-toc-modified-id=\"Distribution-of-engagement-metric-4.4.2\"><span class=\"toc-item-num\">4.4.2&nbsp;&nbsp;</span>Distribution of engagement metric</a></span><ul class=\"toc-item\"><li><span><a href=\"#Year\" data-toc-modified-id=\"Year-4.4.2.1\"><span class=\"toc-item-num\">4.4.2.1&nbsp;&nbsp;</span>Year</a></span></li><li><span><a href=\"#Month\" data-toc-modified-id=\"Month-4.4.2.2\"><span class=\"toc-item-num\">4.4.2.2&nbsp;&nbsp;</span>Month</a></span></li><li><span><a href=\"#Weekday\" data-toc-modified-id=\"Weekday-4.4.2.3\"><span class=\"toc-item-num\">4.4.2.3&nbsp;&nbsp;</span>Weekday</a></span></li><li><span><a href=\"#Hour\" data-toc-modified-id=\"Hour-4.4.2.4\"><span class=\"toc-item-num\">4.4.2.4&nbsp;&nbsp;</span>Hour</a></span></li><li><span><a href=\"#Grouped-hours\" data-toc-modified-id=\"Grouped-hours-4.4.2.5\"><span class=\"toc-item-num\">4.4.2.5&nbsp;&nbsp;</span>Grouped hours</a></span></li><li><span><a href=\"#status-types\" data-toc-modified-id=\"status-types-4.4.2.6\"><span class=\"toc-item-num\">4.4.2.6&nbsp;&nbsp;</span>status types</a></span></li></ul></li></ul></li></ul></li><li><span><a href=\"#Modeling\" data-toc-modified-id=\"Modeling-5\"><span class=\"toc-item-num\">5&nbsp;&nbsp;</span>Modeling</a></span><ul class=\"toc-item\"><li><span><a href=\"#Data-preparation\" data-toc-modified-id=\"Data-preparation-5.1\"><span class=\"toc-item-num\">5.1&nbsp;&nbsp;</span>Data preparation</a></span><ul class=\"toc-item\"><li><span><a href=\"#One-hot-encoding-of-categorical-variables\" data-toc-modified-id=\"One-hot-encoding-of-categorical-variables-5.1.1\"><span class=\"toc-item-num\">5.1.1&nbsp;&nbsp;</span>One-hot encoding of categorical variables</a></span></li><li><span><a href=\"#Dependent-and-independent-variable\" data-toc-modified-id=\"Dependent-and-independent-variable-5.1.2\"><span class=\"toc-item-num\">5.1.2&nbsp;&nbsp;</span>Dependent and independent variable</a></span></li><li><span><a href=\"#Splitting-the-data-into-train-and-test\" data-toc-modified-id=\"Splitting-the-data-into-train-and-test-5.1.3\"><span class=\"toc-item-num\">5.1.3&nbsp;&nbsp;</span>Splitting the data into train and test</a></span></li></ul></li><li><span><a href=\"#Simple-modeling\" data-toc-modified-id=\"Simple-modeling-5.2\"><span class=\"toc-item-num\">5.2&nbsp;&nbsp;</span>Simple modeling</a></span><ul class=\"toc-item\"><li><span><a href=\"#Model-comparison-on-test-data\" data-toc-modified-id=\"Model-comparison-on-test-data-5.2.1\"><span class=\"toc-item-num\">5.2.1&nbsp;&nbsp;</span>Model comparison on test data</a></span></li><li><span><a href=\"#Hyperparameter-tuning\" data-toc-modified-id=\"Hyperparameter-tuning-5.2.2\"><span class=\"toc-item-num\">5.2.2&nbsp;&nbsp;</span>Hyperparameter tuning</a></span></li><li><span><a href=\"#Learning-curve-for-Random-Forests\" data-toc-modified-id=\"Learning-curve-for-Random-Forests-5.2.3\"><span class=\"toc-item-num\">5.2.3&nbsp;&nbsp;</span>Learning curve for Random Forests</a></span></li><li><span><a href=\"#Feature-Importance\" data-toc-modified-id=\"Feature-Importance-5.2.4\"><span class=\"toc-item-num\">5.2.4&nbsp;&nbsp;</span>Feature Importance</a></span></li></ul></li></ul></li><li><span><a href=\"#Results-and-conclusion\" data-toc-modified-id=\"Results-and-conclusion-6\"><span class=\"toc-item-num\">6&nbsp;&nbsp;</span>Results and conclusion</a></span></li></ul></div>"
   ]
  },
  {
   "cell_type": "markdown",
   "id": "05624b76",
   "metadata": {},
   "source": [
    "# Objective\n",
    "1. Predict the engagement metric of future posts(video, photo, status, and link) from the given dataset of Facebook data consisting of number of reactions, comments, and shares for a post. \n",
    "2. Explain correlation between variables and trends using temporal dimensions of engagement metric."
   ]
  },
  {
   "cell_type": "code",
   "execution_count": 1,
   "id": "7a0fd121",
   "metadata": {},
   "outputs": [],
   "source": [
    "import pandas as pd\n",
    "import numpy as np\n",
    "import seaborn as sns\n",
    "import matplotlib.pyplot as plt\n",
    "from collections import Counter\n",
    "\n",
    "from sklearn.preprocessing import OneHotEncoder\n",
    "from sklearn.model_selection import train_test_split, cross_val_score, GridSearchCV, learning_curve\n",
    "from sklearn.linear_model import LinearRegression\n",
    "from sklearn.ensemble import RandomForestRegressor\n",
    "from sklearn.metrics import mean_absolute_error\n",
    "\n",
    "import shap\n",
    "\n",
    "import warnings\n",
    "warnings.filterwarnings('ignore')"
   ]
  },
  {
   "cell_type": "markdown",
   "id": "e548ceba",
   "metadata": {},
   "source": [
    "# Load and check data"
   ]
  },
  {
   "cell_type": "code",
   "execution_count": 2,
   "id": "bedaed3f",
   "metadata": {
    "scrolled": true
   },
   "outputs": [
    {
     "data": {
      "text/html": [
       "<div>\n",
       "<style scoped>\n",
       "    .dataframe tbody tr th:only-of-type {\n",
       "        vertical-align: middle;\n",
       "    }\n",
       "\n",
       "    .dataframe tbody tr th {\n",
       "        vertical-align: top;\n",
       "    }\n",
       "\n",
       "    .dataframe thead th {\n",
       "        text-align: right;\n",
       "    }\n",
       "</style>\n",
       "<table border=\"1\" class=\"dataframe\">\n",
       "  <thead>\n",
       "    <tr style=\"text-align: right;\">\n",
       "      <th></th>\n",
       "      <th>status_id</th>\n",
       "      <th>status_type</th>\n",
       "      <th>status_published</th>\n",
       "      <th>num_reactions</th>\n",
       "      <th>num_comments</th>\n",
       "      <th>num_shares</th>\n",
       "      <th>num_likes</th>\n",
       "      <th>num_loves</th>\n",
       "      <th>num_wows</th>\n",
       "      <th>num_hahas</th>\n",
       "      <th>num_sads</th>\n",
       "      <th>num_angrys</th>\n",
       "      <th>Column1</th>\n",
       "      <th>Column2</th>\n",
       "      <th>Column3</th>\n",
       "      <th>Column4</th>\n",
       "    </tr>\n",
       "  </thead>\n",
       "  <tbody>\n",
       "    <tr>\n",
       "      <th>0</th>\n",
       "      <td>246675545449582_1649696485147474</td>\n",
       "      <td>video</td>\n",
       "      <td>2018-04-22 06:00:00</td>\n",
       "      <td>529</td>\n",
       "      <td>512</td>\n",
       "      <td>262</td>\n",
       "      <td>432</td>\n",
       "      <td>92</td>\n",
       "      <td>3</td>\n",
       "      <td>1</td>\n",
       "      <td>1</td>\n",
       "      <td>0</td>\n",
       "      <td>NaN</td>\n",
       "      <td>NaN</td>\n",
       "      <td>NaN</td>\n",
       "      <td>NaN</td>\n",
       "    </tr>\n",
       "    <tr>\n",
       "      <th>1</th>\n",
       "      <td>246675545449582_1649426988507757</td>\n",
       "      <td>photo</td>\n",
       "      <td>2018-04-21 22:45:00</td>\n",
       "      <td>150</td>\n",
       "      <td>0</td>\n",
       "      <td>0</td>\n",
       "      <td>150</td>\n",
       "      <td>0</td>\n",
       "      <td>0</td>\n",
       "      <td>0</td>\n",
       "      <td>0</td>\n",
       "      <td>0</td>\n",
       "      <td>NaN</td>\n",
       "      <td>NaN</td>\n",
       "      <td>NaN</td>\n",
       "      <td>NaN</td>\n",
       "    </tr>\n",
       "    <tr>\n",
       "      <th>2</th>\n",
       "      <td>246675545449582_1648730588577397</td>\n",
       "      <td>video</td>\n",
       "      <td>2018-04-21 06:17:00</td>\n",
       "      <td>227</td>\n",
       "      <td>236</td>\n",
       "      <td>57</td>\n",
       "      <td>204</td>\n",
       "      <td>21</td>\n",
       "      <td>1</td>\n",
       "      <td>1</td>\n",
       "      <td>0</td>\n",
       "      <td>0</td>\n",
       "      <td>NaN</td>\n",
       "      <td>NaN</td>\n",
       "      <td>NaN</td>\n",
       "      <td>NaN</td>\n",
       "    </tr>\n",
       "    <tr>\n",
       "      <th>3</th>\n",
       "      <td>246675545449582_1648576705259452</td>\n",
       "      <td>photo</td>\n",
       "      <td>2018-04-21 02:29:00</td>\n",
       "      <td>111</td>\n",
       "      <td>0</td>\n",
       "      <td>0</td>\n",
       "      <td>111</td>\n",
       "      <td>0</td>\n",
       "      <td>0</td>\n",
       "      <td>0</td>\n",
       "      <td>0</td>\n",
       "      <td>0</td>\n",
       "      <td>NaN</td>\n",
       "      <td>NaN</td>\n",
       "      <td>NaN</td>\n",
       "      <td>NaN</td>\n",
       "    </tr>\n",
       "    <tr>\n",
       "      <th>4</th>\n",
       "      <td>246675545449582_1645700502213739</td>\n",
       "      <td>photo</td>\n",
       "      <td>2018-04-18 03:22:00</td>\n",
       "      <td>213</td>\n",
       "      <td>0</td>\n",
       "      <td>0</td>\n",
       "      <td>204</td>\n",
       "      <td>9</td>\n",
       "      <td>0</td>\n",
       "      <td>0</td>\n",
       "      <td>0</td>\n",
       "      <td>0</td>\n",
       "      <td>NaN</td>\n",
       "      <td>NaN</td>\n",
       "      <td>NaN</td>\n",
       "      <td>NaN</td>\n",
       "    </tr>\n",
       "  </tbody>\n",
       "</table>\n",
       "</div>"
      ],
      "text/plain": [
       "                          status_id status_type    status_published  \\\n",
       "0  246675545449582_1649696485147474       video 2018-04-22 06:00:00   \n",
       "1  246675545449582_1649426988507757       photo 2018-04-21 22:45:00   \n",
       "2  246675545449582_1648730588577397       video 2018-04-21 06:17:00   \n",
       "3  246675545449582_1648576705259452       photo 2018-04-21 02:29:00   \n",
       "4  246675545449582_1645700502213739       photo 2018-04-18 03:22:00   \n",
       "\n",
       "   num_reactions  num_comments  num_shares  num_likes  num_loves  num_wows  \\\n",
       "0            529           512         262        432         92         3   \n",
       "1            150             0           0        150          0         0   \n",
       "2            227           236          57        204         21         1   \n",
       "3            111             0           0        111          0         0   \n",
       "4            213             0           0        204          9         0   \n",
       "\n",
       "   num_hahas  num_sads  num_angrys  Column1  Column2  Column3  Column4  \n",
       "0          1         1           0      NaN      NaN      NaN      NaN  \n",
       "1          0         0           0      NaN      NaN      NaN      NaN  \n",
       "2          1         0           0      NaN      NaN      NaN      NaN  \n",
       "3          0         0           0      NaN      NaN      NaN      NaN  \n",
       "4          0         0           0      NaN      NaN      NaN      NaN  "
      ]
     },
     "execution_count": 2,
     "metadata": {},
     "output_type": "execute_result"
    }
   ],
   "source": [
    "df = pd.read_csv('.\\live.csv', parse_dates=['status_published'])\n",
    "df.head()"
   ]
  },
  {
   "cell_type": "markdown",
   "id": "b9edecf7",
   "metadata": {},
   "source": [
    "## Check for duplicates"
   ]
  },
  {
   "cell_type": "code",
   "execution_count": 3,
   "id": "77b48118",
   "metadata": {},
   "outputs": [],
   "source": [
    "df = df.drop_duplicates().reset_index(drop=True)"
   ]
  },
  {
   "cell_type": "code",
   "execution_count": 4,
   "id": "5178d9a0",
   "metadata": {},
   "outputs": [
    {
     "data": {
      "text/plain": [
       "(6999, 16)"
      ]
     },
     "execution_count": 4,
     "metadata": {},
     "output_type": "execute_result"
    }
   ],
   "source": [
    "df.shape"
   ]
  },
  {
   "cell_type": "code",
   "execution_count": 5,
   "id": "4c06e752",
   "metadata": {},
   "outputs": [
    {
     "data": {
      "text/plain": [
       "246675545449582_429583263825475    2\n",
       "246675545449582_326883450762124    2\n",
       "725980084255106_831056807080766    1\n",
       "725980084255106_821310368055410    1\n",
       "725980084255106_821715704681543    1\n",
       "Name: status_id, dtype: int64"
      ]
     },
     "execution_count": 5,
     "metadata": {},
     "output_type": "execute_result"
    }
   ],
   "source": [
    "df['status_id'].value_counts().head()"
   ]
  },
  {
   "cell_type": "code",
   "execution_count": 6,
   "id": "b492b79a",
   "metadata": {},
   "outputs": [
    {
     "data": {
      "text/html": [
       "<div>\n",
       "<style scoped>\n",
       "    .dataframe tbody tr th:only-of-type {\n",
       "        vertical-align: middle;\n",
       "    }\n",
       "\n",
       "    .dataframe tbody tr th {\n",
       "        vertical-align: top;\n",
       "    }\n",
       "\n",
       "    .dataframe thead th {\n",
       "        text-align: right;\n",
       "    }\n",
       "</style>\n",
       "<table border=\"1\" class=\"dataframe\">\n",
       "  <thead>\n",
       "    <tr style=\"text-align: right;\">\n",
       "      <th></th>\n",
       "      <th>status_id</th>\n",
       "      <th>status_type</th>\n",
       "      <th>status_published</th>\n",
       "      <th>num_reactions</th>\n",
       "      <th>num_comments</th>\n",
       "      <th>num_shares</th>\n",
       "      <th>num_likes</th>\n",
       "      <th>num_loves</th>\n",
       "      <th>num_wows</th>\n",
       "      <th>num_hahas</th>\n",
       "      <th>num_sads</th>\n",
       "      <th>num_angrys</th>\n",
       "      <th>Column1</th>\n",
       "      <th>Column2</th>\n",
       "      <th>Column3</th>\n",
       "      <th>Column4</th>\n",
       "    </tr>\n",
       "  </thead>\n",
       "  <tbody>\n",
       "    <tr>\n",
       "      <th>1408</th>\n",
       "      <td>246675545449582_429583263825475</td>\n",
       "      <td>photo</td>\n",
       "      <td>2014-04-22 05:43:00</td>\n",
       "      <td>537</td>\n",
       "      <td>16</td>\n",
       "      <td>1</td>\n",
       "      <td>537</td>\n",
       "      <td>0</td>\n",
       "      <td>0</td>\n",
       "      <td>0</td>\n",
       "      <td>0</td>\n",
       "      <td>0</td>\n",
       "      <td>NaN</td>\n",
       "      <td>NaN</td>\n",
       "      <td>NaN</td>\n",
       "      <td>NaN</td>\n",
       "    </tr>\n",
       "    <tr>\n",
       "      <th>1729</th>\n",
       "      <td>246675545449582_429583263825475</td>\n",
       "      <td>photo</td>\n",
       "      <td>2013-09-11 00:12:00</td>\n",
       "      <td>537</td>\n",
       "      <td>16</td>\n",
       "      <td>1</td>\n",
       "      <td>537</td>\n",
       "      <td>0</td>\n",
       "      <td>0</td>\n",
       "      <td>0</td>\n",
       "      <td>0</td>\n",
       "      <td>0</td>\n",
       "      <td>NaN</td>\n",
       "      <td>NaN</td>\n",
       "      <td>NaN</td>\n",
       "      <td>NaN</td>\n",
       "    </tr>\n",
       "  </tbody>\n",
       "</table>\n",
       "</div>"
      ],
      "text/plain": [
       "                            status_id status_type    status_published  \\\n",
       "1408  246675545449582_429583263825475       photo 2014-04-22 05:43:00   \n",
       "1729  246675545449582_429583263825475       photo 2013-09-11 00:12:00   \n",
       "\n",
       "      num_reactions  num_comments  num_shares  num_likes  num_loves  num_wows  \\\n",
       "1408            537            16           1        537          0         0   \n",
       "1729            537            16           1        537          0         0   \n",
       "\n",
       "      num_hahas  num_sads  num_angrys  Column1  Column2  Column3  Column4  \n",
       "1408          0         0           0      NaN      NaN      NaN      NaN  \n",
       "1729          0         0           0      NaN      NaN      NaN      NaN  "
      ]
     },
     "execution_count": 6,
     "metadata": {},
     "output_type": "execute_result"
    }
   ],
   "source": [
    "df[df['status_id']=='246675545449582_429583263825475']"
   ]
  },
  {
   "cell_type": "code",
   "execution_count": 7,
   "id": "7026c512",
   "metadata": {},
   "outputs": [
    {
     "data": {
      "text/html": [
       "<div>\n",
       "<style scoped>\n",
       "    .dataframe tbody tr th:only-of-type {\n",
       "        vertical-align: middle;\n",
       "    }\n",
       "\n",
       "    .dataframe tbody tr th {\n",
       "        vertical-align: top;\n",
       "    }\n",
       "\n",
       "    .dataframe thead th {\n",
       "        text-align: right;\n",
       "    }\n",
       "</style>\n",
       "<table border=\"1\" class=\"dataframe\">\n",
       "  <thead>\n",
       "    <tr style=\"text-align: right;\">\n",
       "      <th></th>\n",
       "      <th>status_id</th>\n",
       "      <th>status_type</th>\n",
       "      <th>status_published</th>\n",
       "      <th>num_reactions</th>\n",
       "      <th>num_comments</th>\n",
       "      <th>num_shares</th>\n",
       "      <th>num_likes</th>\n",
       "      <th>num_loves</th>\n",
       "      <th>num_wows</th>\n",
       "      <th>num_hahas</th>\n",
       "      <th>num_sads</th>\n",
       "      <th>num_angrys</th>\n",
       "      <th>Column1</th>\n",
       "      <th>Column2</th>\n",
       "      <th>Column3</th>\n",
       "      <th>Column4</th>\n",
       "    </tr>\n",
       "  </thead>\n",
       "  <tbody>\n",
       "    <tr>\n",
       "      <th>1488</th>\n",
       "      <td>246675545449582_326883450762124</td>\n",
       "      <td>photo</td>\n",
       "      <td>2014-02-14 03:07:00</td>\n",
       "      <td>211</td>\n",
       "      <td>2</td>\n",
       "      <td>0</td>\n",
       "      <td>211</td>\n",
       "      <td>0</td>\n",
       "      <td>0</td>\n",
       "      <td>0</td>\n",
       "      <td>0</td>\n",
       "      <td>0</td>\n",
       "      <td>NaN</td>\n",
       "      <td>NaN</td>\n",
       "      <td>NaN</td>\n",
       "      <td>NaN</td>\n",
       "    </tr>\n",
       "    <tr>\n",
       "      <th>1698</th>\n",
       "      <td>246675545449582_326883450762124</td>\n",
       "      <td>photo</td>\n",
       "      <td>2013-10-11 08:23:00</td>\n",
       "      <td>211</td>\n",
       "      <td>2</td>\n",
       "      <td>0</td>\n",
       "      <td>211</td>\n",
       "      <td>0</td>\n",
       "      <td>0</td>\n",
       "      <td>0</td>\n",
       "      <td>0</td>\n",
       "      <td>0</td>\n",
       "      <td>NaN</td>\n",
       "      <td>NaN</td>\n",
       "      <td>NaN</td>\n",
       "      <td>NaN</td>\n",
       "    </tr>\n",
       "  </tbody>\n",
       "</table>\n",
       "</div>"
      ],
      "text/plain": [
       "                            status_id status_type    status_published  \\\n",
       "1488  246675545449582_326883450762124       photo 2014-02-14 03:07:00   \n",
       "1698  246675545449582_326883450762124       photo 2013-10-11 08:23:00   \n",
       "\n",
       "      num_reactions  num_comments  num_shares  num_likes  num_loves  num_wows  \\\n",
       "1488            211             2           0        211          0         0   \n",
       "1698            211             2           0        211          0         0   \n",
       "\n",
       "      num_hahas  num_sads  num_angrys  Column1  Column2  Column3  Column4  \n",
       "1488          0         0           0      NaN      NaN      NaN      NaN  \n",
       "1698          0         0           0      NaN      NaN      NaN      NaN  "
      ]
     },
     "execution_count": 7,
     "metadata": {},
     "output_type": "execute_result"
    }
   ],
   "source": [
    "df[df['status_id']=='246675545449582_326883450762124']"
   ]
  },
  {
   "cell_type": "markdown",
   "id": "31826663",
   "metadata": {},
   "source": [
    "It looks like there was some error with above status_id as they have same entries except the time of published. We will keep the latest one and remove the old."
   ]
  },
  {
   "cell_type": "code",
   "execution_count": 8,
   "id": "b1319765",
   "metadata": {},
   "outputs": [],
   "source": [
    "df = df.drop_duplicates(['status_id'], keep='first').reset_index(drop=True)"
   ]
  },
  {
   "cell_type": "code",
   "execution_count": 9,
   "id": "60d1da2d",
   "metadata": {},
   "outputs": [
    {
     "name": "stdout",
     "output_type": "stream",
     "text": [
      "<class 'pandas.core.frame.DataFrame'>\n",
      "RangeIndex: 6997 entries, 0 to 6996\n",
      "Data columns (total 16 columns):\n",
      " #   Column            Non-Null Count  Dtype         \n",
      "---  ------            --------------  -----         \n",
      " 0   status_id         6997 non-null   object        \n",
      " 1   status_type       6997 non-null   object        \n",
      " 2   status_published  6997 non-null   datetime64[ns]\n",
      " 3   num_reactions     6997 non-null   int64         \n",
      " 4   num_comments      6997 non-null   int64         \n",
      " 5   num_shares        6997 non-null   int64         \n",
      " 6   num_likes         6997 non-null   int64         \n",
      " 7   num_loves         6997 non-null   int64         \n",
      " 8   num_wows          6997 non-null   int64         \n",
      " 9   num_hahas         6997 non-null   int64         \n",
      " 10  num_sads          6997 non-null   int64         \n",
      " 11  num_angrys        6997 non-null   int64         \n",
      " 12  Column1           0 non-null      float64       \n",
      " 13  Column2           0 non-null      float64       \n",
      " 14  Column3           0 non-null      float64       \n",
      " 15  Column4           0 non-null      float64       \n",
      "dtypes: datetime64[ns](1), float64(4), int64(9), object(2)\n",
      "memory usage: 874.8+ KB\n"
     ]
    }
   ],
   "source": [
    "df.info()"
   ]
  },
  {
   "cell_type": "markdown",
   "id": "a8877045",
   "metadata": {},
   "source": [
    "No missing values found except for 4 empty columns"
   ]
  },
  {
   "cell_type": "code",
   "execution_count": 10,
   "id": "86a489c6",
   "metadata": {},
   "outputs": [],
   "source": [
    "# removing empty columns\n",
    "df.drop(['Column1','Column2','Column3','Column4'], axis=1, inplace=True)"
   ]
  },
  {
   "cell_type": "code",
   "execution_count": 11,
   "id": "303f5e7f",
   "metadata": {
    "scrolled": false
   },
   "outputs": [
    {
     "data": {
      "text/html": [
       "<div>\n",
       "<style scoped>\n",
       "    .dataframe tbody tr th:only-of-type {\n",
       "        vertical-align: middle;\n",
       "    }\n",
       "\n",
       "    .dataframe tbody tr th {\n",
       "        vertical-align: top;\n",
       "    }\n",
       "\n",
       "    .dataframe thead th {\n",
       "        text-align: right;\n",
       "    }\n",
       "</style>\n",
       "<table border=\"1\" class=\"dataframe\">\n",
       "  <thead>\n",
       "    <tr style=\"text-align: right;\">\n",
       "      <th></th>\n",
       "      <th>num_reactions</th>\n",
       "      <th>num_comments</th>\n",
       "      <th>num_shares</th>\n",
       "      <th>num_likes</th>\n",
       "      <th>num_loves</th>\n",
       "      <th>num_wows</th>\n",
       "      <th>num_hahas</th>\n",
       "      <th>num_sads</th>\n",
       "      <th>num_angrys</th>\n",
       "    </tr>\n",
       "  </thead>\n",
       "  <tbody>\n",
       "    <tr>\n",
       "      <th>count</th>\n",
       "      <td>6997.000000</td>\n",
       "      <td>6997.000000</td>\n",
       "      <td>6997.000000</td>\n",
       "      <td>6997.000000</td>\n",
       "      <td>6997.000000</td>\n",
       "      <td>6997.000000</td>\n",
       "      <td>6997.000000</td>\n",
       "      <td>6997.000000</td>\n",
       "      <td>6997.000000</td>\n",
       "    </tr>\n",
       "    <tr>\n",
       "      <th>mean</th>\n",
       "      <td>224.951979</td>\n",
       "      <td>225.613977</td>\n",
       "      <td>40.269973</td>\n",
       "      <td>209.899814</td>\n",
       "      <td>12.755181</td>\n",
       "      <td>1.253251</td>\n",
       "      <td>0.698156</td>\n",
       "      <td>0.232671</td>\n",
       "      <td>0.110190</td>\n",
       "    </tr>\n",
       "    <tr>\n",
       "      <th>std</th>\n",
       "      <td>452.930082</td>\n",
       "      <td>892.863091</td>\n",
       "      <td>132.064065</td>\n",
       "      <td>439.595761</td>\n",
       "      <td>40.112024</td>\n",
       "      <td>8.726772</td>\n",
       "      <td>3.971462</td>\n",
       "      <td>1.481312</td>\n",
       "      <td>0.688678</td>\n",
       "    </tr>\n",
       "    <tr>\n",
       "      <th>min</th>\n",
       "      <td>0.000000</td>\n",
       "      <td>0.000000</td>\n",
       "      <td>0.000000</td>\n",
       "      <td>0.000000</td>\n",
       "      <td>0.000000</td>\n",
       "      <td>0.000000</td>\n",
       "      <td>0.000000</td>\n",
       "      <td>0.000000</td>\n",
       "      <td>0.000000</td>\n",
       "    </tr>\n",
       "    <tr>\n",
       "      <th>25%</th>\n",
       "      <td>17.000000</td>\n",
       "      <td>0.000000</td>\n",
       "      <td>0.000000</td>\n",
       "      <td>17.000000</td>\n",
       "      <td>0.000000</td>\n",
       "      <td>0.000000</td>\n",
       "      <td>0.000000</td>\n",
       "      <td>0.000000</td>\n",
       "      <td>0.000000</td>\n",
       "    </tr>\n",
       "    <tr>\n",
       "      <th>50%</th>\n",
       "      <td>58.000000</td>\n",
       "      <td>4.000000</td>\n",
       "      <td>0.000000</td>\n",
       "      <td>57.000000</td>\n",
       "      <td>0.000000</td>\n",
       "      <td>0.000000</td>\n",
       "      <td>0.000000</td>\n",
       "      <td>0.000000</td>\n",
       "      <td>0.000000</td>\n",
       "    </tr>\n",
       "    <tr>\n",
       "      <th>75%</th>\n",
       "      <td>216.000000</td>\n",
       "      <td>22.000000</td>\n",
       "      <td>4.000000</td>\n",
       "      <td>182.000000</td>\n",
       "      <td>3.000000</td>\n",
       "      <td>0.000000</td>\n",
       "      <td>0.000000</td>\n",
       "      <td>0.000000</td>\n",
       "      <td>0.000000</td>\n",
       "    </tr>\n",
       "    <tr>\n",
       "      <th>max</th>\n",
       "      <td>4710.000000</td>\n",
       "      <td>20990.000000</td>\n",
       "      <td>3424.000000</td>\n",
       "      <td>4710.000000</td>\n",
       "      <td>657.000000</td>\n",
       "      <td>278.000000</td>\n",
       "      <td>157.000000</td>\n",
       "      <td>51.000000</td>\n",
       "      <td>31.000000</td>\n",
       "    </tr>\n",
       "  </tbody>\n",
       "</table>\n",
       "</div>"
      ],
      "text/plain": [
       "       num_reactions  num_comments   num_shares    num_likes    num_loves  \\\n",
       "count    6997.000000   6997.000000  6997.000000  6997.000000  6997.000000   \n",
       "mean      224.951979    225.613977    40.269973   209.899814    12.755181   \n",
       "std       452.930082    892.863091   132.064065   439.595761    40.112024   \n",
       "min         0.000000      0.000000     0.000000     0.000000     0.000000   \n",
       "25%        17.000000      0.000000     0.000000    17.000000     0.000000   \n",
       "50%        58.000000      4.000000     0.000000    57.000000     0.000000   \n",
       "75%       216.000000     22.000000     4.000000   182.000000     3.000000   \n",
       "max      4710.000000  20990.000000  3424.000000  4710.000000   657.000000   \n",
       "\n",
       "          num_wows    num_hahas     num_sads   num_angrys  \n",
       "count  6997.000000  6997.000000  6997.000000  6997.000000  \n",
       "mean      1.253251     0.698156     0.232671     0.110190  \n",
       "std       8.726772     3.971462     1.481312     0.688678  \n",
       "min       0.000000     0.000000     0.000000     0.000000  \n",
       "25%       0.000000     0.000000     0.000000     0.000000  \n",
       "50%       0.000000     0.000000     0.000000     0.000000  \n",
       "75%       0.000000     0.000000     0.000000     0.000000  \n",
       "max     278.000000   157.000000    51.000000    31.000000  "
      ]
     },
     "execution_count": 11,
     "metadata": {},
     "output_type": "execute_result"
    }
   ],
   "source": [
    "df.describe()"
   ]
  },
  {
   "cell_type": "code",
   "execution_count": 12,
   "id": "70645e21",
   "metadata": {},
   "outputs": [
    {
     "data": {
      "text/plain": [
       "num_reactions    1573989\n",
       "num_comments     1578621\n",
       "num_shares        281769\n",
       "num_likes        1468669\n",
       "num_loves          89248\n",
       "num_wows            8769\n",
       "num_hahas           4885\n",
       "num_sads            1628\n",
       "num_angrys           771\n",
       "dtype: int64"
      ]
     },
     "execution_count": 12,
     "metadata": {},
     "output_type": "execute_result"
    }
   ],
   "source": [
    "df.drop(['status_id','status_type'], axis=1).sum()"
   ]
  },
  {
   "cell_type": "code",
   "execution_count": 15,
   "id": "1e1ca8fa",
   "metadata": {},
   "outputs": [
    {
     "name": "stdout",
     "output_type": "stream",
     "text": [
      "2012-07-15 02:51:00\n",
      "2018-06-13 01:12:00\n"
     ]
    }
   ],
   "source": [
    "print(df['status_published'].min())\n",
    "print(df['status_published'].max())"
   ]
  },
  {
   "cell_type": "markdown",
   "id": "34668f4a",
   "metadata": {},
   "source": [
    "We have the posts from year 2012 to 2018."
   ]
  },
  {
   "cell_type": "markdown",
   "id": "e1f22e7e",
   "metadata": {},
   "source": [
    "## Outliers detection"
   ]
  },
  {
   "cell_type": "code",
   "execution_count": 16,
   "id": "b95da1f7",
   "metadata": {},
   "outputs": [],
   "source": [
    "# Outlier detection \n",
    "\n",
    "def detect_outliers(df,n,features):\n",
    "    \"\"\"\n",
    "    Takes a dataframe df of features and returns a list of the indices\n",
    "    corresponding to the observations containing more than n outliers according\n",
    "    to the Tukey method.\n",
    "    \"\"\"\n",
    "    outlier_indices = []\n",
    "    \n",
    "    # iterate over features(columns)\n",
    "    for col in features:\n",
    "        # 1st quartile (25%)\n",
    "        Q1 = np.percentile(df[col], 25)\n",
    "        # 3rd quartile (75%)\n",
    "        Q3 = np.percentile(df[col],75)\n",
    "        # Interquartile range (IQR)\n",
    "        IQR = Q3 - Q1\n",
    "        \n",
    "        # outlier step\n",
    "        outlier_step = 1.5 * IQR\n",
    "        \n",
    "        # Determine a list of indices of outliers for feature col\n",
    "        outlier_list_col = df[(df[col] < Q1 - outlier_step) | (df[col] > Q3 + outlier_step )].index\n",
    "        \n",
    "        # append the found outlier indices for col to the list of outlier indices \n",
    "        outlier_indices.extend(outlier_list_col)\n",
    "        \n",
    "    # select observations containing more than 2 outliers\n",
    "    outlier_indices = Counter(outlier_indices)        \n",
    "    multiple_outliers = list( k for k, v in outlier_indices.items() if v > n )\n",
    "    \n",
    "    return multiple_outliers   \n",
    "\n",
    "# detect outliers from Age, SibSp , Parch and Fare\n",
    "Outliers_to_drop = detect_outliers(df,2,[\"num_reactions\",\"num_shares\",\"num_comments\"])"
   ]
  },
  {
   "cell_type": "code",
   "execution_count": 17,
   "id": "49e9c4ed",
   "metadata": {},
   "outputs": [
    {
     "data": {
      "text/html": [
       "<div>\n",
       "<style scoped>\n",
       "    .dataframe tbody tr th:only-of-type {\n",
       "        vertical-align: middle;\n",
       "    }\n",
       "\n",
       "    .dataframe tbody tr th {\n",
       "        vertical-align: top;\n",
       "    }\n",
       "\n",
       "    .dataframe thead th {\n",
       "        text-align: right;\n",
       "    }\n",
       "</style>\n",
       "<table border=\"1\" class=\"dataframe\">\n",
       "  <thead>\n",
       "    <tr style=\"text-align: right;\">\n",
       "      <th></th>\n",
       "      <th>status_type</th>\n",
       "      <th>status_published</th>\n",
       "      <th>num_reactions</th>\n",
       "      <th>num_comments</th>\n",
       "      <th>num_shares</th>\n",
       "    </tr>\n",
       "  </thead>\n",
       "  <tbody>\n",
       "    <tr>\n",
       "      <th>0</th>\n",
       "      <td>video</td>\n",
       "      <td>2018-04-22 06:00:00</td>\n",
       "      <td>529</td>\n",
       "      <td>512</td>\n",
       "      <td>262</td>\n",
       "    </tr>\n",
       "    <tr>\n",
       "      <th>99</th>\n",
       "      <td>video</td>\n",
       "      <td>2017-11-18 01:23:00</td>\n",
       "      <td>1493</td>\n",
       "      <td>1979</td>\n",
       "      <td>753</td>\n",
       "    </tr>\n",
       "    <tr>\n",
       "      <th>166</th>\n",
       "      <td>photo</td>\n",
       "      <td>2017-09-03 05:39:00</td>\n",
       "      <td>4410</td>\n",
       "      <td>633</td>\n",
       "      <td>257</td>\n",
       "    </tr>\n",
       "    <tr>\n",
       "      <th>198</th>\n",
       "      <td>video</td>\n",
       "      <td>2017-08-08 05:13:00</td>\n",
       "      <td>571</td>\n",
       "      <td>888</td>\n",
       "      <td>107</td>\n",
       "    </tr>\n",
       "    <tr>\n",
       "      <th>208</th>\n",
       "      <td>video</td>\n",
       "      <td>2017-08-01 23:33:00</td>\n",
       "      <td>734</td>\n",
       "      <td>996</td>\n",
       "      <td>73</td>\n",
       "    </tr>\n",
       "    <tr>\n",
       "      <th>238</th>\n",
       "      <td>video</td>\n",
       "      <td>2017-06-25 07:42:00</td>\n",
       "      <td>885</td>\n",
       "      <td>462</td>\n",
       "      <td>26</td>\n",
       "    </tr>\n",
       "    <tr>\n",
       "      <th>293</th>\n",
       "      <td>video</td>\n",
       "      <td>2017-04-20 02:36:00</td>\n",
       "      <td>616</td>\n",
       "      <td>523</td>\n",
       "      <td>21</td>\n",
       "    </tr>\n",
       "    <tr>\n",
       "      <th>295</th>\n",
       "      <td>video</td>\n",
       "      <td>2017-04-19 08:02:00</td>\n",
       "      <td>593</td>\n",
       "      <td>309</td>\n",
       "      <td>23</td>\n",
       "    </tr>\n",
       "    <tr>\n",
       "      <th>343</th>\n",
       "      <td>video</td>\n",
       "      <td>2017-03-18 09:09:00</td>\n",
       "      <td>1379</td>\n",
       "      <td>769</td>\n",
       "      <td>69</td>\n",
       "    </tr>\n",
       "    <tr>\n",
       "      <th>356</th>\n",
       "      <td>video</td>\n",
       "      <td>2017-03-09 22:56:00</td>\n",
       "      <td>591</td>\n",
       "      <td>560</td>\n",
       "      <td>49</td>\n",
       "    </tr>\n",
       "    <tr>\n",
       "      <th>361</th>\n",
       "      <td>status</td>\n",
       "      <td>2017-03-04 09:22:00</td>\n",
       "      <td>1043</td>\n",
       "      <td>117</td>\n",
       "      <td>24</td>\n",
       "    </tr>\n",
       "    <tr>\n",
       "      <th>482</th>\n",
       "      <td>video</td>\n",
       "      <td>2016-12-09 09:29:00</td>\n",
       "      <td>543</td>\n",
       "      <td>4661</td>\n",
       "      <td>178</td>\n",
       "    </tr>\n",
       "    <tr>\n",
       "      <th>486</th>\n",
       "      <td>video</td>\n",
       "      <td>2016-12-08 04:21:00</td>\n",
       "      <td>607</td>\n",
       "      <td>383</td>\n",
       "      <td>52</td>\n",
       "    </tr>\n",
       "    <tr>\n",
       "      <th>498</th>\n",
       "      <td>video</td>\n",
       "      <td>2016-11-30 08:46:00</td>\n",
       "      <td>564</td>\n",
       "      <td>20990</td>\n",
       "      <td>154</td>\n",
       "    </tr>\n",
       "    <tr>\n",
       "      <th>1060</th>\n",
       "      <td>photo</td>\n",
       "      <td>2015-10-24 03:18:00</td>\n",
       "      <td>1143</td>\n",
       "      <td>154</td>\n",
       "      <td>64</td>\n",
       "    </tr>\n",
       "  </tbody>\n",
       "</table>\n",
       "</div>"
      ],
      "text/plain": [
       "     status_type    status_published  num_reactions  num_comments  num_shares\n",
       "0          video 2018-04-22 06:00:00            529           512         262\n",
       "99         video 2017-11-18 01:23:00           1493          1979         753\n",
       "166        photo 2017-09-03 05:39:00           4410           633         257\n",
       "198        video 2017-08-08 05:13:00            571           888         107\n",
       "208        video 2017-08-01 23:33:00            734           996          73\n",
       "238        video 2017-06-25 07:42:00            885           462          26\n",
       "293        video 2017-04-20 02:36:00            616           523          21\n",
       "295        video 2017-04-19 08:02:00            593           309          23\n",
       "343        video 2017-03-18 09:09:00           1379           769          69\n",
       "356        video 2017-03-09 22:56:00            591           560          49\n",
       "361       status 2017-03-04 09:22:00           1043           117          24\n",
       "482        video 2016-12-09 09:29:00            543          4661         178\n",
       "486        video 2016-12-08 04:21:00            607           383          52\n",
       "498        video 2016-11-30 08:46:00            564         20990         154\n",
       "1060       photo 2015-10-24 03:18:00           1143           154          64"
      ]
     },
     "execution_count": 17,
     "metadata": {},
     "output_type": "execute_result"
    }
   ],
   "source": [
    "df.loc[Outliers_to_drop].head(15)"
   ]
  },
  {
   "cell_type": "markdown",
   "id": "43c9f861",
   "metadata": {},
   "source": [
    "We can see that these posts have a large number of reactions, shares, and comments. In the second last column (index:498), the number of comments is 20990. This could be because that particular post went viral. We will use decision trees for prediction so keeping these outliers won't affect the model. However, in linear regression this can hugely impact the acccuracy of the model."
   ]
  },
  {
   "cell_type": "markdown",
   "id": "bc930f99",
   "metadata": {},
   "source": [
    "## Feature Analysis"
   ]
  },
  {
   "cell_type": "markdown",
   "id": "283fa39e",
   "metadata": {},
   "source": [
    "## Numerical values"
   ]
  },
  {
   "cell_type": "code",
   "execution_count": 18,
   "id": "0a43fb56",
   "metadata": {},
   "outputs": [
    {
     "data": {
      "image/png": "[encoded data removed]",
      "text/plain": [
       "<Figure size 360x360 with 1 Axes>"
      ]
     },
     "metadata": {
      "needs_background": "light"
     },
     "output_type": "display_data"
    }
   ],
   "source": [
    "sns.displot(df['num_reactions'], kde=True, bins=50);\n",
    "plt.xlim(0,3000)\n",
    "plt.title(\"Distribution of num_reactions\");"
   ]
  },
  {
   "cell_type": "code",
   "execution_count": 19,
   "id": "2236656d",
   "metadata": {},
   "outputs": [
    {
     "data": {
      "image/png": "[encoded data removed]",
      "text/plain": [
       "<Figure size 432x288 with 1 Axes>"
      ]
     },
     "metadata": {
      "needs_background": "light"
     },
     "output_type": "display_data"
    }
   ],
   "source": [
    "sns.boxplot(df['num_reactions']);\n",
    "plt.title(\"Distribution of num_reactions\");"
   ]
  },
  {
   "cell_type": "markdown",
   "id": "8f749ebf",
   "metadata": {},
   "source": [
    "The distribution is right skewed. Most of the post get less than 500 number of reactions with some exception of more than 3000 reactions. Those are mostly a viral posts."
   ]
  },
  {
   "cell_type": "code",
   "execution_count": 20,
   "id": "7f73932d",
   "metadata": {},
   "outputs": [
    {
     "data": {
      "image/png": "[encoded data removed]",
      "text/plain": [
       "<Figure size 360x360 with 1 Axes>"
      ]
     },
     "metadata": {
      "needs_background": "light"
     },
     "output_type": "display_data"
    }
   ],
   "source": [
    "sns.displot(df['num_comments'], bins=100, kde=True);\n",
    "plt.xlim(0,3000)\n",
    "plt.title(\"Distribution of num_comments\");"
   ]
  },
  {
   "cell_type": "code",
   "execution_count": 21,
   "id": "5111c3df",
   "metadata": {},
   "outputs": [
    {
     "data": {
      "image/png": "[encoded data removed]",
      "text/plain": [
       "<Figure size 432x288 with 1 Axes>"
      ]
     },
     "metadata": {
      "needs_background": "light"
     },
     "output_type": "display_data"
    }
   ],
   "source": [
    "sns.boxplot(df['num_comments']);\n",
    "plt.title(\"Distribution of num_comments\");"
   ]
  },
  {
   "cell_type": "markdown",
   "id": "0a04bbc0",
   "metadata": {},
   "source": [
    "The distribution is right skewed. Most of the post get less than 500 number of comments with some exception of more than 3000 reactions. Those are mostly a viral posts."
   ]
  },
  {
   "cell_type": "code",
   "execution_count": 22,
   "id": "3c9deae5",
   "metadata": {},
   "outputs": [
    {
     "data": {
      "image/png": "[encoded data removed]",
      "text/plain": [
       "<Figure size 360x360 with 1 Axes>"
      ]
     },
     "metadata": {
      "needs_background": "light"
     },
     "output_type": "display_data"
    }
   ],
   "source": [
    "sns.displot(df['num_shares'], bins=50, kde=True);\n",
    "plt.xlim(0,1000)\n",
    "plt.title(\"Distribution of num_shares\");"
   ]
  },
  {
   "cell_type": "code",
   "execution_count": 23,
   "id": "61d2d3d9",
   "metadata": {},
   "outputs": [
    {
     "data": {
      "image/png": "[encoded data removed]",
      "text/plain": [
       "<Figure size 432x288 with 1 Axes>"
      ]
     },
     "metadata": {
      "needs_background": "light"
     },
     "output_type": "display_data"
    }
   ],
   "source": [
    "sns.boxplot(df['num_shares']);\n",
    "plt.title(\"Distribution of num_shares\");"
   ]
  },
  {
   "cell_type": "markdown",
   "id": "e4410b28",
   "metadata": {},
   "source": [
    "The distribution is right skewed. Most of the post get less than 200 number of shares with some exception of more than 1000 reactions. Those are mostly a viral posts. We see that very few people share a  posts and this explains as well."
   ]
  },
  {
   "cell_type": "code",
   "execution_count": 13,
   "id": "4303da4e",
   "metadata": {
    "scrolled": false
   },
   "outputs": [
    {
     "data": {
      "image/png": "[encoded data removed]",
      "text/plain": [
       "<Figure size 1152x576 with 2 Axes>"
      ]
     },
     "metadata": {
      "needs_background": "light"
     },
     "output_type": "display_data"
    }
   ],
   "source": [
    "plt.figure(figsize=(16, 8))\n",
    "heatmap = sns.heatmap(df.corr(), vmin=-1, vmax=1, annot=True, cmap='BrBG')\n",
    "heatmap.set_title('Correlation Heatmap', fontdict={'fontsize':18}, pad=12);"
   ]
  },
  {
   "cell_type": "markdown",
   "id": "b72ce097",
   "metadata": {},
   "source": [
    "We see a very high correlation between likes and total reactions. This is obvious as total reaction is the sum of likes, love, haha etc. It is also known that like is the most common reaction among all. \n",
    "\n",
    "We also see a correlation among no. of reaction, shares, and comments."
   ]
  },
  {
   "cell_type": "markdown",
   "id": "c2e6b786",
   "metadata": {},
   "source": [
    "# Categorial  values  "
   ]
  },
  {
   "cell_type": "code",
   "execution_count": 24,
   "id": "b4404c5f",
   "metadata": {},
   "outputs": [
    {
     "data": {
      "image/png": "[encoded data removed]",
      "text/plain": [
       "<Figure size 864x432 with 1 Axes>"
      ]
     },
     "metadata": {
      "needs_background": "light"
     },
     "output_type": "display_data"
    }
   ],
   "source": [
    "# count of posts for status type\n",
    "plt.figure(figsize=(12,6))\n",
    "sns.countplot(df['status_type'],palette='viridis');"
   ]
  },
  {
   "cell_type": "markdown",
   "id": "c2cc2896",
   "metadata": {},
   "source": [
    "Maximum number of posts involve photos, followed by videos, status and link."
   ]
  },
  {
   "cell_type": "markdown",
   "id": "c060af9d",
   "metadata": {},
   "source": [
    "# Feature engineering"
   ]
  },
  {
   "cell_type": "markdown",
   "id": "9dcab953",
   "metadata": {},
   "source": [
    "## Dropping status id and sub reactions: like,love,haha etc"
   ]
  },
  {
   "cell_type": "code",
   "execution_count": 14,
   "id": "7bc74bb5",
   "metadata": {},
   "outputs": [],
   "source": [
    "# dropping status id as it is not useful for determing the engagement metrics\n",
    "# We are also dropping the sub reactions as the sum of all those reaction is already \n",
    "# taken into account in num_reactions column\n",
    "df.drop(['status_id','num_likes','num_loves','num_wows','num_hahas', 'num_sads', 'num_angrys'], axis=1, inplace=True)"
   ]
  },
  {
   "cell_type": "markdown",
   "id": "69b7173e",
   "metadata": {},
   "source": [
    "'num_reaction' column captures the sum of all the reaction: likes, loves, wows, hahas, sads, angrys. These can be used to analyze the sentiment of public towards a post however, at the moment we are more interested in knowing the overall engagement of a post and hence the sum of all the reaction does the job."
   ]
  },
  {
   "cell_type": "markdown",
   "id": "bab94fe2",
   "metadata": {},
   "source": [
    "## Extracting temporal dimensions from status_published"
   ]
  },
  {
   "cell_type": "code",
   "execution_count": 25,
   "id": "34bd4f37",
   "metadata": {},
   "outputs": [],
   "source": [
    "df['year_published'] = df['status_published'].dt.year\n",
    "df['month_published'] = df['status_published'].dt.month\n",
    "df['day_published'] = df['status_published'].dt.dayofweek\n",
    "df['hour_published'] = df['status_published'].dt.hour\n",
    "\n",
    "# dropping status_publihed column\n",
    "df.drop('status_published', axis=1, inplace=True)"
   ]
  },
  {
   "cell_type": "markdown",
   "id": "80a1090c",
   "metadata": {},
   "source": [
    "Created year, month, day, and hour column from published date column. This will help us to analyze the trends using the temporal dimension"
   ]
  },
  {
   "cell_type": "markdown",
   "id": "4a58c35a",
   "metadata": {},
   "source": [
    "## Defining target variable"
   ]
  },
  {
   "cell_type": "markdown",
   "id": "e3546a7b",
   "metadata": {},
   "source": [
    "The aim is to predict the engagement metric: reactions, shares, and comments. To simplify our problem, we will combine all those to get a single engagement metrics, which will be our target variable for the problem. At the moment we are simply adding reactions, shares, and comments but weighted sum can also be done. "
   ]
  },
  {
   "cell_type": "code",
   "execution_count": 26,
   "id": "4b1401f6",
   "metadata": {},
   "outputs": [],
   "source": [
    "df['overall_engagement']= df['num_reactions']+df['num_comments']+df['num_shares']"
   ]
  },
  {
   "cell_type": "markdown",
   "id": "e0f3f1e7",
   "metadata": {},
   "source": [
    "## Data visualization using temporal dimension"
   ]
  },
  {
   "cell_type": "markdown",
   "id": "96d48d09",
   "metadata": {},
   "source": [
    "### Frequency plots"
   ]
  },
  {
   "cell_type": "code",
   "execution_count": 27,
   "id": "b059ba7a",
   "metadata": {},
   "outputs": [
    {
     "data": {
      "image/png": "[encoded data removed]",
      "text/plain": [
       "<Figure size 864x432 with 1 Axes>"
      ]
     },
     "metadata": {
      "needs_background": "light"
     },
     "output_type": "display_data"
    }
   ],
   "source": [
    "plt.figure(figsize=(12,6))\n",
    "sns.countplot(df['year_published'],palette='viridis');"
   ]
  },
  {
   "cell_type": "markdown",
   "id": "f4fa53e1",
   "metadata": {},
   "source": [
    "We see that most of the post are done in the year of 2017 and 2018."
   ]
  },
  {
   "cell_type": "code",
   "execution_count": 28,
   "id": "f33e2b0c",
   "metadata": {},
   "outputs": [
    {
     "data": {
      "image/png": "[encoded data removed]",
      "text/plain": [
       "<Figure size 864x432 with 1 Axes>"
      ]
     },
     "metadata": {
      "needs_background": "light"
     },
     "output_type": "display_data"
    }
   ],
   "source": [
    "plt.figure(figsize=(12,6))\n",
    "sns.countplot(df['month_published'],palette='viridis');"
   ]
  },
  {
   "cell_type": "markdown",
   "id": "e452ff28",
   "metadata": {},
   "source": [
    "We see more number of posts during the end of year. "
   ]
  },
  {
   "cell_type": "code",
   "execution_count": 31,
   "id": "9c0cdde4",
   "metadata": {},
   "outputs": [
    {
     "data": {
      "image/png": "[encoded data removed]",
      "text/plain": [
       "<Figure size 864x432 with 1 Axes>"
      ]
     },
     "metadata": {
      "needs_background": "light"
     },
     "output_type": "display_data"
    }
   ],
   "source": [
    "plt.figure(figsize=(12,6))\n",
    "sns.countplot(df['day_published'],palette='viridis');"
   ]
  },
  {
   "cell_type": "markdown",
   "id": "a67eb09a",
   "metadata": {},
   "source": [
    "The day of the week with Monday=0, Sunday=6. No clear trend is observed for a weekday"
   ]
  },
  {
   "cell_type": "code",
   "execution_count": 32,
   "id": "fe0c3fb8",
   "metadata": {},
   "outputs": [
    {
     "data": {
      "image/png": "[encoded data removed]",
      "text/plain": [
       "<Figure size 864x432 with 1 Axes>"
      ]
     },
     "metadata": {
      "needs_background": "light"
     },
     "output_type": "display_data"
    }
   ],
   "source": [
    "plt.figure(figsize=(12,6))\n",
    "sns.countplot(df['hour_published'],palette='viridis');"
   ]
  },
  {
   "cell_type": "markdown",
   "id": "5095155f",
   "metadata": {},
   "source": [
    "We see almost no posts during 14hr to 20hr. Possibly due to different timezone it is showing this time. Most probably it is night time when business is closed."
   ]
  },
  {
   "cell_type": "markdown",
   "id": "c5df07c4",
   "metadata": {},
   "source": [
    "### Distribution of engagement metric"
   ]
  },
  {
   "cell_type": "markdown",
   "id": "c84282e4",
   "metadata": {},
   "source": [
    "#### Year"
   ]
  },
  {
   "cell_type": "code",
   "execution_count": 33,
   "id": "f6d6144e",
   "metadata": {
    "scrolled": false
   },
   "outputs": [
    {
     "data": {
      "image/png": "[encoded data removed]",
      "text/plain": [
       "<Figure size 864x432 with 1 Axes>"
      ]
     },
     "metadata": {
      "needs_background": "light"
     },
     "output_type": "display_data"
    }
   ],
   "source": [
    "plt.figure(figsize=(12,6))\n",
    "sns.barplot(x='year_published',y='overall_engagement',data=df,palette='viridis')\n",
    "plt.ylim(0,1800)\n",
    "plt.title(\"Distribution of Overall Engagement by Year\")\n",
    "plt.ylabel(\"# of engagement\");"
   ]
  },
  {
   "cell_type": "markdown",
   "id": "def46a5d",
   "metadata": {},
   "source": [
    "During 2015, we can expect to see an unusually large increase in engagement. The reason for this is unclear. Perhaps it was caused by an increase in internet usage. However, we see a drop after that, followed by a gradual increase in 2017 and 2018. This may have an impact on the prediction of engagement metrics. From a business standpoint, it shouldn't matter which year we post a particular post. As a result, we will not use the year to forecast engagement metrics."
   ]
  },
  {
   "cell_type": "code",
   "execution_count": 34,
   "id": "e13a7db0",
   "metadata": {},
   "outputs": [],
   "source": [
    "# dropping year column from further analysis\n",
    "df.drop('year_published', axis=1, inplace=True)"
   ]
  },
  {
   "cell_type": "markdown",
   "id": "c61f4223",
   "metadata": {},
   "source": [
    "#### Month"
   ]
  },
  {
   "cell_type": "code",
   "execution_count": 35,
   "id": "852070d3",
   "metadata": {},
   "outputs": [
    {
     "data": {
      "image/png": "[encoded data removed]",
      "text/plain": [
       "<Figure size 864x432 with 1 Axes>"
      ]
     },
     "metadata": {
      "needs_background": "light"
     },
     "output_type": "display_data"
    }
   ],
   "source": [
    "plt.figure(figsize=(12,6))\n",
    "sns.barplot(x='month_published',y='overall_engagement',data=df,palette='viridis')\n",
    "plt.ylim(0,1000)\n",
    "plt.title(\"Distribution of Overall Engagement by Month\")\n",
    "plt.ylabel(\"# of engagement\");"
   ]
  },
  {
   "cell_type": "markdown",
   "id": "efe918d4",
   "metadata": {},
   "source": [
    "The month of year can be an important factor for engaging a user. Number 1 to 12 represent month Jan. to Dec. accordingly. Month 5 shows high number of engagement which could be because of summer vacations. More students might be spending time in social media during vacations."
   ]
  },
  {
   "cell_type": "markdown",
   "id": "bf2dd89e",
   "metadata": {},
   "source": [
    "#### Weekday"
   ]
  },
  {
   "cell_type": "code",
   "execution_count": 36,
   "id": "0363798d",
   "metadata": {},
   "outputs": [
    {
     "data": {
      "image/png": "[encoded data removed]",
      "text/plain": [
       "<Figure size 864x432 with 1 Axes>"
      ]
     },
     "metadata": {
      "needs_background": "light"
     },
     "output_type": "display_data"
    }
   ],
   "source": [
    "plt.figure(figsize=(12,6))\n",
    "sns.barplot(x='day_published',y='overall_engagement',data=df,palette='viridis')\n",
    "plt.ylim(0,700)\n",
    "plt.title(\"Distribution of Overall Engagement by Weekday\")\n",
    "plt.ylabel(\"# of engagement\");\n",
    "#plt.savefig('dayBox.png', bbox_inches='tight')"
   ]
  },
  {
   "cell_type": "markdown",
   "id": "79d5d98a",
   "metadata": {},
   "source": [
    "The day of the week with Monday=0, Sunday=6.\n",
    "The day can also have an impact on engagement of user. We see a higher engagement on Saturday and Thursday. Saturday is weekend, so maybe more people engage in social media. However, no clear explanation is known at the moment. More data might be needed to understand the effect of day. We will keep them for our model."
   ]
  },
  {
   "cell_type": "markdown",
   "id": "77babc56",
   "metadata": {},
   "source": [
    "#### Hour"
   ]
  },
  {
   "cell_type": "code",
   "execution_count": 37,
   "id": "c35e3fab",
   "metadata": {},
   "outputs": [
    {
     "data": {
      "image/png": "[encoded data removed]",
      "text/plain": [
       "<Figure size 864x432 with 1 Axes>"
      ]
     },
     "metadata": {
      "needs_background": "light"
     },
     "output_type": "display_data"
    }
   ],
   "source": [
    "plt.figure(figsize=(12,6))\n",
    "sns.barplot(x='hour_published',y='overall_engagement',data=df,palette='viridis')\n",
    "plt.ylim(0,1300)\n",
    "plt.title(\"Distribution of Overall Engagement by Hour\")\n",
    "plt.ylabel(\"# of engagement\");"
   ]
  },
  {
   "cell_type": "markdown",
   "id": "ed654106",
   "metadata": {},
   "source": [
    "Hour of a day can also impact the engagement of user in a post. 10 am seems to be the best time of a day for a post to engage a user. Possible reason could be people taking a small break from work around 10 am. However, it's better to group them to keep the categorial variable count low. This will create 24 new columns during one-hot encoding. Let group them below."
   ]
  },
  {
   "cell_type": "markdown",
   "id": "50f10073",
   "metadata": {},
   "source": [
    "#### Grouped hours"
   ]
  },
  {
   "cell_type": "code",
   "execution_count": 38,
   "id": "955ed6c3",
   "metadata": {},
   "outputs": [],
   "source": [
    "# Grouped the day into 4 hours each. This will help us to reduce the number of variables.\n",
    "\n",
    "df.loc[ df['hour_published'] <= 3, 'time_of_day'] = 0 \n",
    "df.loc[(df['hour_published'] > 3) & (df['hour_published'] <= 7), 'time_of_day'] = 1\n",
    "df.loc[(df['hour_published'] > 7) & (df['hour_published'] <= 11), 'time_of_day'] = 2\n",
    "df.loc[(df['hour_published'] > 11) & (df['hour_published'] <= 15), 'time_of_day'] = 3\n",
    "df.loc[(df['hour_published'] > 15) & (df['hour_published'] <= 19), 'time_of_day'] = 4\n",
    "df.loc[(df['hour_published'] > 19) & (df['hour_published'] <= 23), 'time_of_day'] = 5"
   ]
  },
  {
   "cell_type": "code",
   "execution_count": 39,
   "id": "eea82786",
   "metadata": {},
   "outputs": [
    {
     "data": {
      "image/png": "[encoded data removed]",
      "text/plain": [
       "<Figure size 864x432 with 1 Axes>"
      ]
     },
     "metadata": {
      "needs_background": "light"
     },
     "output_type": "display_data"
    }
   ],
   "source": [
    "plt.figure(figsize=(12,6))\n",
    "sns.barplot(x='time_of_day',y='overall_engagement',data=df,palette='viridis')\n",
    "plt.ylim(0,800)\n",
    "plt.title(\"Distribution of Reaction by Hour\")\n",
    "plt.ylabel(\"# of Reaction\");"
   ]
  },
  {
   "cell_type": "markdown",
   "id": "21e39829",
   "metadata": {},
   "source": [
    "By grouping them we have created more flexibility for business to post. We can see higher number of engagement during 1 and 2 time of the day which is from hour 4am to 7am and 8am to 11am. "
   ]
  },
  {
   "cell_type": "code",
   "execution_count": 40,
   "id": "cefb2b12",
   "metadata": {},
   "outputs": [],
   "source": [
    "# dropping hour_published column\n",
    "df.drop('hour_published', axis=1, inplace=True)"
   ]
  },
  {
   "cell_type": "markdown",
   "id": "2b6eb98b",
   "metadata": {},
   "source": [
    "#### status types"
   ]
  },
  {
   "cell_type": "code",
   "execution_count": 41,
   "id": "9111498b",
   "metadata": {},
   "outputs": [
    {
     "data": {
      "image/png": "[encoded data removed]",
      "text/plain": [
       "<Figure size 864x432 with 1 Axes>"
      ]
     },
     "metadata": {
      "needs_background": "light"
     },
     "output_type": "display_data"
    }
   ],
   "source": [
    "plt.figure(figsize=(12,6))\n",
    "sns.barplot(x='status_type',y='overall_engagement',data=df,palette='viridis')\n",
    "plt.ylim(0,1200)\n",
    "plt.title(\"Distribution of Engagement Metric by Type\")\n",
    "plt.ylabel(\"# of engagement metric\");"
   ]
  },
  {
   "cell_type": "markdown",
   "id": "bf70db15",
   "metadata": {},
   "source": [
    "Video clearly show a higher engagement of user, followed by a status, link, and photo."
   ]
  },
  {
   "cell_type": "code",
   "execution_count": 42,
   "id": "beaf1097",
   "metadata": {},
   "outputs": [
    {
     "data": {
      "image/png": "[encoded data removed]",
      "text/plain": [
       "<Figure size 1152x576 with 2 Axes>"
      ]
     },
     "metadata": {
      "needs_background": "light"
     },
     "output_type": "display_data"
    }
   ],
   "source": [
    "plt.figure(figsize=(16, 8))\n",
    "heatmap = sns.heatmap(df.corr(), vmin=-1, vmax=1, annot=True, cmap='BrBG')\n",
    "heatmap.set_title('Correlation Heatmap', fontdict={'fontsize':18}, pad=12);"
   ]
  },
  {
   "cell_type": "markdown",
   "id": "c9da73b8",
   "metadata": {},
   "source": [
    "Dropping reactions, comments, and shares column from further analysis. The overall_engagement column takes care of all three together."
   ]
  },
  {
   "cell_type": "code",
   "execution_count": 43,
   "id": "2861b36c",
   "metadata": {},
   "outputs": [],
   "source": [
    "df.drop(['num_reactions','num_comments','num_shares'], axis=1, inplace=True)"
   ]
  },
  {
   "cell_type": "markdown",
   "id": "fed83787",
   "metadata": {},
   "source": [
    "# Modeling"
   ]
  },
  {
   "cell_type": "markdown",
   "id": "a7914717",
   "metadata": {},
   "source": [
    "## Data preparation"
   ]
  },
  {
   "cell_type": "code",
   "execution_count": 44,
   "id": "1dd00c9c",
   "metadata": {},
   "outputs": [],
   "source": [
    "# categorial columns: columns with discrete values\n",
    "Categorial_col = ['status_type','month_published','day_published','time_of_day']"
   ]
  },
  {
   "cell_type": "markdown",
   "id": "7496cee0",
   "metadata": {},
   "source": [
    "### One-hot encoding of categorical variables"
   ]
  },
  {
   "cell_type": "code",
   "execution_count": 45,
   "id": "a96630a3",
   "metadata": {},
   "outputs": [],
   "source": [
    "OH_encoder = OneHotEncoder(handle_unknown='ignore', sparse=False)\n",
    "encoder_fit = OH_encoder.fit_transform(df[Categorial_col])\n",
    "column_name = OH_encoder.get_feature_names(Categorial_col)\n",
    "OH_cols = pd.DataFrame(encoder_fit, columns=column_name)\n",
    "# One-hot encoding removed index; put it back\n",
    "OH_cols.index = df.index\n",
    "# Remove categorical columns (will replace with one-hot encoding)\n",
    "num_col = df.drop(Categorial_col, axis=1)\n",
    "# Add one-hot encoded columns to numerical features\n",
    "OH_df = pd.concat([num_col, OH_cols], axis=1)"
   ]
  },
  {
   "cell_type": "code",
   "execution_count": 46,
   "id": "3d1653b3",
   "metadata": {},
   "outputs": [
    {
     "data": {
      "text/html": [
       "<div>\n",
       "<style scoped>\n",
       "    .dataframe tbody tr th:only-of-type {\n",
       "        vertical-align: middle;\n",
       "    }\n",
       "\n",
       "    .dataframe tbody tr th {\n",
       "        vertical-align: top;\n",
       "    }\n",
       "\n",
       "    .dataframe thead th {\n",
       "        text-align: right;\n",
       "    }\n",
       "</style>\n",
       "<table border=\"1\" class=\"dataframe\">\n",
       "  <thead>\n",
       "    <tr style=\"text-align: right;\">\n",
       "      <th></th>\n",
       "      <th>overall_engagement</th>\n",
       "      <th>status_type_link</th>\n",
       "      <th>status_type_photo</th>\n",
       "      <th>status_type_status</th>\n",
       "      <th>status_type_video</th>\n",
       "      <th>month_published_1</th>\n",
       "      <th>month_published_2</th>\n",
       "      <th>month_published_3</th>\n",
       "      <th>month_published_4</th>\n",
       "      <th>month_published_5</th>\n",
       "      <th>...</th>\n",
       "      <th>day_published_3</th>\n",
       "      <th>day_published_4</th>\n",
       "      <th>day_published_5</th>\n",
       "      <th>day_published_6</th>\n",
       "      <th>time_of_day_0.0</th>\n",
       "      <th>time_of_day_1.0</th>\n",
       "      <th>time_of_day_2.0</th>\n",
       "      <th>time_of_day_3.0</th>\n",
       "      <th>time_of_day_4.0</th>\n",
       "      <th>time_of_day_5.0</th>\n",
       "    </tr>\n",
       "  </thead>\n",
       "  <tbody>\n",
       "    <tr>\n",
       "      <th>0</th>\n",
       "      <td>1303</td>\n",
       "      <td>0.0</td>\n",
       "      <td>0.0</td>\n",
       "      <td>0.0</td>\n",
       "      <td>1.0</td>\n",
       "      <td>0.0</td>\n",
       "      <td>0.0</td>\n",
       "      <td>0.0</td>\n",
       "      <td>1.0</td>\n",
       "      <td>0.0</td>\n",
       "      <td>...</td>\n",
       "      <td>0.0</td>\n",
       "      <td>0.0</td>\n",
       "      <td>0.0</td>\n",
       "      <td>1.0</td>\n",
       "      <td>0.0</td>\n",
       "      <td>1.0</td>\n",
       "      <td>0.0</td>\n",
       "      <td>0.0</td>\n",
       "      <td>0.0</td>\n",
       "      <td>0.0</td>\n",
       "    </tr>\n",
       "    <tr>\n",
       "      <th>1</th>\n",
       "      <td>150</td>\n",
       "      <td>0.0</td>\n",
       "      <td>1.0</td>\n",
       "      <td>0.0</td>\n",
       "      <td>0.0</td>\n",
       "      <td>0.0</td>\n",
       "      <td>0.0</td>\n",
       "      <td>0.0</td>\n",
       "      <td>1.0</td>\n",
       "      <td>0.0</td>\n",
       "      <td>...</td>\n",
       "      <td>0.0</td>\n",
       "      <td>0.0</td>\n",
       "      <td>1.0</td>\n",
       "      <td>0.0</td>\n",
       "      <td>0.0</td>\n",
       "      <td>0.0</td>\n",
       "      <td>0.0</td>\n",
       "      <td>0.0</td>\n",
       "      <td>0.0</td>\n",
       "      <td>1.0</td>\n",
       "    </tr>\n",
       "    <tr>\n",
       "      <th>2</th>\n",
       "      <td>520</td>\n",
       "      <td>0.0</td>\n",
       "      <td>0.0</td>\n",
       "      <td>0.0</td>\n",
       "      <td>1.0</td>\n",
       "      <td>0.0</td>\n",
       "      <td>0.0</td>\n",
       "      <td>0.0</td>\n",
       "      <td>1.0</td>\n",
       "      <td>0.0</td>\n",
       "      <td>...</td>\n",
       "      <td>0.0</td>\n",
       "      <td>0.0</td>\n",
       "      <td>1.0</td>\n",
       "      <td>0.0</td>\n",
       "      <td>0.0</td>\n",
       "      <td>1.0</td>\n",
       "      <td>0.0</td>\n",
       "      <td>0.0</td>\n",
       "      <td>0.0</td>\n",
       "      <td>0.0</td>\n",
       "    </tr>\n",
       "    <tr>\n",
       "      <th>3</th>\n",
       "      <td>111</td>\n",
       "      <td>0.0</td>\n",
       "      <td>1.0</td>\n",
       "      <td>0.0</td>\n",
       "      <td>0.0</td>\n",
       "      <td>0.0</td>\n",
       "      <td>0.0</td>\n",
       "      <td>0.0</td>\n",
       "      <td>1.0</td>\n",
       "      <td>0.0</td>\n",
       "      <td>...</td>\n",
       "      <td>0.0</td>\n",
       "      <td>0.0</td>\n",
       "      <td>1.0</td>\n",
       "      <td>0.0</td>\n",
       "      <td>1.0</td>\n",
       "      <td>0.0</td>\n",
       "      <td>0.0</td>\n",
       "      <td>0.0</td>\n",
       "      <td>0.0</td>\n",
       "      <td>0.0</td>\n",
       "    </tr>\n",
       "    <tr>\n",
       "      <th>4</th>\n",
       "      <td>213</td>\n",
       "      <td>0.0</td>\n",
       "      <td>1.0</td>\n",
       "      <td>0.0</td>\n",
       "      <td>0.0</td>\n",
       "      <td>0.0</td>\n",
       "      <td>0.0</td>\n",
       "      <td>0.0</td>\n",
       "      <td>1.0</td>\n",
       "      <td>0.0</td>\n",
       "      <td>...</td>\n",
       "      <td>0.0</td>\n",
       "      <td>0.0</td>\n",
       "      <td>0.0</td>\n",
       "      <td>0.0</td>\n",
       "      <td>1.0</td>\n",
       "      <td>0.0</td>\n",
       "      <td>0.0</td>\n",
       "      <td>0.0</td>\n",
       "      <td>0.0</td>\n",
       "      <td>0.0</td>\n",
       "    </tr>\n",
       "  </tbody>\n",
       "</table>\n",
       "<p>5 rows × 30 columns</p>\n",
       "</div>"
      ],
      "text/plain": [
       "   overall_engagement  status_type_link  status_type_photo  \\\n",
       "0                1303               0.0                0.0   \n",
       "1                 150               0.0                1.0   \n",
       "2                 520               0.0                0.0   \n",
       "3                 111               0.0                1.0   \n",
       "4                 213               0.0                1.0   \n",
       "\n",
       "   status_type_status  status_type_video  month_published_1  \\\n",
       "0                 0.0                1.0                0.0   \n",
       "1                 0.0                0.0                0.0   \n",
       "2                 0.0                1.0                0.0   \n",
       "3                 0.0                0.0                0.0   \n",
       "4                 0.0                0.0                0.0   \n",
       "\n",
       "   month_published_2  month_published_3  month_published_4  month_published_5  \\\n",
       "0                0.0                0.0                1.0                0.0   \n",
       "1                0.0                0.0                1.0                0.0   \n",
       "2                0.0                0.0                1.0                0.0   \n",
       "3                0.0                0.0                1.0                0.0   \n",
       "4                0.0                0.0                1.0                0.0   \n",
       "\n",
       "   ...  day_published_3  day_published_4  day_published_5  day_published_6  \\\n",
       "0  ...              0.0              0.0              0.0              1.0   \n",
       "1  ...              0.0              0.0              1.0              0.0   \n",
       "2  ...              0.0              0.0              1.0              0.0   \n",
       "3  ...              0.0              0.0              1.0              0.0   \n",
       "4  ...              0.0              0.0              0.0              0.0   \n",
       "\n",
       "   time_of_day_0.0  time_of_day_1.0  time_of_day_2.0  time_of_day_3.0  \\\n",
       "0              0.0              1.0              0.0              0.0   \n",
       "1              0.0              0.0              0.0              0.0   \n",
       "2              0.0              1.0              0.0              0.0   \n",
       "3              1.0              0.0              0.0              0.0   \n",
       "4              1.0              0.0              0.0              0.0   \n",
       "\n",
       "   time_of_day_4.0  time_of_day_5.0  \n",
       "0              0.0              0.0  \n",
       "1              0.0              1.0  \n",
       "2              0.0              0.0  \n",
       "3              0.0              0.0  \n",
       "4              0.0              0.0  \n",
       "\n",
       "[5 rows x 30 columns]"
      ]
     },
     "execution_count": 46,
     "metadata": {},
     "output_type": "execute_result"
    }
   ],
   "source": [
    "OH_df.head()"
   ]
  },
  {
   "cell_type": "markdown",
   "id": "3ffc190f",
   "metadata": {},
   "source": [
    "### Dependent and independent variable"
   ]
  },
  {
   "cell_type": "code",
   "execution_count": 47,
   "id": "edbcb5e4",
   "metadata": {},
   "outputs": [],
   "source": [
    "X = OH_df.drop(['overall_engagement'],axis=1)\n",
    "y = OH_df[['overall_engagement']]"
   ]
  },
  {
   "cell_type": "markdown",
   "id": "2cd7e50b",
   "metadata": {},
   "source": [
    "### Splitting the data into train and test"
   ]
  },
  {
   "cell_type": "code",
   "execution_count": 48,
   "id": "87433b66",
   "metadata": {},
   "outputs": [],
   "source": [
    "X_train, X_test, y_train, y_test = train_test_split(X, y, test_size=0.2, random_state=0)"
   ]
  },
  {
   "cell_type": "markdown",
   "id": "b0bb9f14",
   "metadata": {},
   "source": [
    "## Simple modeling"
   ]
  },
  {
   "cell_type": "code",
   "execution_count": 49,
   "id": "f49158b2",
   "metadata": {},
   "outputs": [
    {
     "name": "stdout",
     "output_type": "stream",
     "text": [
      "MAE score: 561 and standard deviation 24\n"
     ]
    }
   ],
   "source": [
    "# linear regression: base model\n",
    "# used crossvalidation=5 to avoid overfitting\n",
    "# scoring: neg_mean_absolute_error: good with ouliers \n",
    "lm = LinearRegression()\n",
    "lm_scores = -1*cross_val_score(lm, X_train, y_train, scoring = 'neg_mean_absolute_error', cv = 5)\n",
    "print(\"MAE score: {} and standard deviation {}\".format(round(np.mean(lm_scores)), \n",
    "                                                        round(np.std(lm_scores))))"
   ]
  },
  {
   "cell_type": "code",
   "execution_count": 50,
   "id": "48010c00",
   "metadata": {},
   "outputs": [
    {
     "name": "stdout",
     "output_type": "stream",
     "text": [
      "MAE score: 535 and standard deviation 27\n"
     ]
    }
   ],
   "source": [
    "# Decision tree: random forest: good with outliers\n",
    "# used crossvalidation=5 to avoid overfitting\n",
    "# scoring: neg_mean_absolute_error: good with ouliers \n",
    "rf = RandomForestRegressor(random_state = 0)\n",
    "rf_scores = -1*cross_val_score(rf, X_train, y_train, scoring = 'neg_mean_absolute_error', cv = 5)\n",
    "print(\"MAE score: {} and standard deviation {}\".format(round(np.mean(rf_scores)), \n",
    "                                                        round(np.std(rf_scores))))"
   ]
  },
  {
   "cell_type": "markdown",
   "id": "dd71abe2",
   "metadata": {},
   "source": [
    "### Model comparison on test data"
   ]
  },
  {
   "cell_type": "code",
   "execution_count": 51,
   "id": "0f119a1e",
   "metadata": {},
   "outputs": [
    {
     "name": "stdout",
     "output_type": "stream",
     "text": [
      "Multilinear model MAE: 548\n"
     ]
    }
   ],
   "source": [
    "lm.fit(X_train,y_train)\n",
    "y_pred_lm = lm.predict(X_test)\n",
    "print('Multilinear model MAE: {}'.format(round(mean_absolute_error(y_test,y_pred_lm))))"
   ]
  },
  {
   "cell_type": "code",
   "execution_count": 52,
   "id": "0e85811e",
   "metadata": {},
   "outputs": [
    {
     "name": "stdout",
     "output_type": "stream",
     "text": [
      "RandomForest regression model MAE: 517\n"
     ]
    }
   ],
   "source": [
    "rf.fit(X_train,y_train)\n",
    "y_pred_rf = rf.predict(X_test)\n",
    "print('RandomForest regression model MAE: {}'.format(round(mean_absolute_error(y_test,y_pred_rf))))"
   ]
  },
  {
   "cell_type": "markdown",
   "id": "d30633ed",
   "metadata": {},
   "source": [
    "Random forests performed slightly better than linear regression. "
   ]
  },
  {
   "cell_type": "markdown",
   "id": "aa0b5282",
   "metadata": {},
   "source": [
    "### Hyperparameter tuning"
   ]
  },
  {
   "cell_type": "code",
   "execution_count": 54,
   "id": "c3b791be",
   "metadata": {},
   "outputs": [
    {
     "name": "stdout",
     "output_type": "stream",
     "text": [
      "Fitting 5 folds for each of 27 candidates, totalling 135 fits\n"
     ]
    },
    {
     "data": {
      "text/plain": [
       "-504.8231919082679"
      ]
     },
     "execution_count": 54,
     "metadata": {},
     "output_type": "execute_result"
    }
   ],
   "source": [
    "# RF Parameters tunning \n",
    "## Search grid for optimal parameters\n",
    "rf_param_grid = {\"max_depth\": [None],\n",
    "              \"max_features\": ['auto'],\n",
    "              \"min_samples_split\": [5, 10,15],\n",
    "              \"min_samples_leaf\": [3,5,10],\n",
    "              \"bootstrap\": [True],\n",
    "              \"n_estimators\" :[100,300,500]}\n",
    "\n",
    "\n",
    "gsRF = GridSearchCV(rf,param_grid = rf_param_grid, cv=5, scoring=\"neg_mean_absolute_error\", n_jobs= -1, \n",
    "                    verbose = 1,error_score='raise')\n",
    "\n",
    "gsRF.fit(X_train,y_train)\n",
    "\n",
    "RF_best = gsRF.best_estimator_\n",
    "\n",
    "# Best score\n",
    "gsRF.best_score_"
   ]
  },
  {
   "cell_type": "markdown",
   "id": "e9727a3f",
   "metadata": {},
   "source": [
    "### Learning curve for Random Forests"
   ]
  },
  {
   "cell_type": "code",
   "execution_count": 55,
   "id": "5d6e266f",
   "metadata": {},
   "outputs": [
    {
     "data": {
      "image/png": "[encoded data removed]",
      "text/plain": [
       "<Figure size 432x288 with 1 Axes>"
      ]
     },
     "metadata": {
      "needs_background": "light"
     },
     "output_type": "display_data"
    }
   ],
   "source": [
    "def plot_learning_curve(estimator, title, X, y, ylim=None, cv=None,\n",
    "                        n_jobs=-1, train_sizes=np.linspace(.1, 1.0, 5)):\n",
    "    \"\"\"Generate a simple plot of the test and training learning curve\"\"\"\n",
    "    plt.figure()\n",
    "    plt.title(title)\n",
    "    if ylim is not None:\n",
    "        plt.ylim(*ylim)\n",
    "    plt.xlabel(\"Training examples\")\n",
    "    plt.ylabel(\"Score\")\n",
    "    train_sizes, train_scores, test_scores = learning_curve(\n",
    "        estimator, X, y, cv=cv, n_jobs=n_jobs, train_sizes=train_sizes)\n",
    "    train_scores_mean = np.mean(train_scores, axis=1)\n",
    "    train_scores_std = np.std(train_scores, axis=1)\n",
    "    test_scores_mean = np.mean(test_scores, axis=1)\n",
    "    test_scores_std = np.std(test_scores, axis=1)\n",
    "    plt.grid()\n",
    "\n",
    "    plt.fill_between(train_sizes, train_scores_mean - train_scores_std,\n",
    "                     train_scores_mean + train_scores_std, alpha=0.1,\n",
    "                     color=\"r\")\n",
    "    plt.fill_between(train_sizes, test_scores_mean - test_scores_std,\n",
    "                     test_scores_mean + test_scores_std, alpha=0.1, color=\"g\")\n",
    "    plt.plot(train_sizes, train_scores_mean, 'o-', color=\"r\",\n",
    "             label=\"Training score\")\n",
    "    plt.plot(train_sizes, test_scores_mean, 'o-', color=\"g\",\n",
    "             label=\"Cross-validation score\")\n",
    "\n",
    "    plt.legend(loc=\"best\")\n",
    "    return plt\n",
    "g = plot_learning_curve(gsRF.best_estimator_,\"RF learning curves\",X_train,y_train,cv=10)"
   ]
  },
  {
   "cell_type": "markdown",
   "id": "453d711c",
   "metadata": {},
   "source": [
    "Random Forest tend to overfit the training set. According to the growing cross-validation curves Random Forest could perform better with more training examples."
   ]
  },
  {
   "cell_type": "markdown",
   "id": "bd142758",
   "metadata": {},
   "source": [
    "### Feature Importance"
   ]
  },
  {
   "cell_type": "code",
   "execution_count": 56,
   "id": "e261e3b0",
   "metadata": {},
   "outputs": [
    {
     "data": {
      "image/png": "[encoded data removed]",
      "text/plain": [
       "<Figure size 576x684 with 2 Axes>"
      ]
     },
     "metadata": {
      "needs_background": "light"
     },
     "output_type": "display_data"
    }
   ],
   "source": [
    "shap_values = shap.TreeExplainer(RF_best).shap_values(X_train)\n",
    "shap.summary_plot(shap_values, X_train)"
   ]
  },
  {
   "cell_type": "markdown",
   "id": "35ff7ff2",
   "metadata": {},
   "source": [
    "We can see that the status type(video) has the most impact on model. Time of the day (7 am to 11 am) also impacts the model the most. For month, 5th month of the year has the most impact on the overall engagement. \n",
    "\n",
    "Day doesn't impact the output of engagement much. However, day 2(Wednesday) is the best day for posting as it has the highest impact on model among all other day."
   ]
  },
  {
   "cell_type": "markdown",
   "id": "242ddd03",
   "metadata": {},
   "source": [
    "# Results and conclusion\n",
    "* The number of reaction column was the sum of reactions: likes,loves,sad etc. It gave the overall picture of user engagement.\n",
    "* Extracted year, month, weekday, and hour from status_published(datetime) column. Used them to visualize the behavior of user engagement over temporal dimensions.\n",
    "* We see a higher correlation of reactions, comments, and shares column. This is obvious as the more a post engages use, the more will they comment and share along with reaction on the post.\n",
    "* Created a new target variable which accounted for total reactions, comments, and shares of a post.\n",
    "* Random forest gave a better prediction, which is due to presence of outliers/extreme values in our dataset. Decision tree models are not affected by outliers.\n",
    "* For a post: the best type of post is video, best month is 5th, best time of the day is 7am to 11am, and best day is Wednesday.\n",
    "* More data such as geographical location can help us make a better strategy for a post. We can also do an analysis of the sentiment of a user by looking at the type of reaction. Comments can be extracted and we can extract the common topic of discussion using NLP. We can also extract the length of the video, it can help us in engaging a user more."
   ]
  }
 ],
 "metadata": {
  "kernelspec": {
   "display_name": "Python 3 (ipykernel)",
   "language": "python",
   "name": "python3"
  },
  "language_info": {
   "codemirror_mode": {
    "name": "ipython",
    "version": 3
   },
   "file_extension": ".py",
   "mimetype": "text/x-python",
   "name": "python",
   "nbconvert_exporter": "python",
   "pygments_lexer": "ipython3",
   "version": "3.8.12"
  },
  "toc": {
   "base_numbering": 1,
   "nav_menu": {},
   "number_sections": true,
   "sideBar": true,
   "skip_h1_title": false,
   "title_cell": "Table of Contents",
   "title_sidebar": "Contents",
   "toc_cell": true,
   "toc_position": {},
   "toc_section_display": true,
   "toc_window_display": true
  },
  "varInspector": {
   "cols": {
    "lenName": 16,
    "lenType": 16,
    "lenVar": 40
   },
   "kernels_config": {
    "python": {
     "delete_cmd_postfix": "",
     "delete_cmd_prefix": "del ",
     "library": "var_list.py",
     "varRefreshCmd": "print(var_dic_list())"
    },
    "r": {
     "delete_cmd_postfix": ") ",
     "delete_cmd_prefix": "rm(",
     "library": "var_list.r",
     "varRefreshCmd": "cat(var_dic_list()) "
    }
   },
   "types_to_exclude": [
    "module",
    "function",
    "builtin_function_or_method",
    "instance",
    "_Feature"
   ],
   "window_display": false
  }
 },
 "nbformat": 4,
 "nbformat_minor": 5
}
